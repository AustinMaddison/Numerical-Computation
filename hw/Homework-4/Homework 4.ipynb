{
 "cells": [
  {
   "cell_type": "markdown",
   "metadata": {},
   "source": [
    "# Homework 4"
   ]
  },
  {
   "cell_type": "code",
   "execution_count": 2,
   "metadata": {
    "ExecuteTime": {
     "end_time": "2024-05-20T04:27:42.542687Z",
     "start_time": "2024-05-20T04:27:41.491333Z"
    }
   },
   "outputs": [],
   "source": [
    "import numpy as np\n",
    "%matplotlib inline\n",
    "from matplotlib import pyplot as plt\n",
    "import math\n",
    "from math import exp"
   ]
  },
  {
   "cell_type": "markdown",
   "metadata": {},
   "source": [
    "1) If we use trapezoid rule to find the\n",
    "$$\\int \\limits_{x=1}^{3} e^{-x} \\; dx$$\n",
    "using $10$ pieces. What would be our value and what is our bound on error? Verify that you actual error is within the bound your got."
   ]
  },
  {
   "cell_type": "code",
   "outputs": [],
   "source": [
    "def f(x):\n",
    "    return math.pow(np.e, -x)"
   ],
   "metadata": {
    "collapsed": false,
    "ExecuteTime": {
     "end_time": "2024-05-20T04:32:59.732357Z",
     "start_time": "2024-05-20T04:32:59.727374Z"
    }
   },
   "execution_count": 31
  },
  {
   "cell_type": "code",
   "outputs": [
    {
     "data": {
      "text/plain": "0.3194003187946323"
     },
     "execution_count": 40,
     "metadata": {},
     "output_type": "execute_result"
    }
   ],
   "source": [
    "xs = np.linspace(1, 3, 10)\n",
    "ys = [f(x) for x in xs]\n",
    "np.trapz(ys, xs)"
   ],
   "metadata": {
    "collapsed": false,
    "ExecuteTime": {
     "end_time": "2024-05-20T04:33:55.175768Z",
     "start_time": "2024-05-20T04:33:55.166204Z"
    }
   },
   "execution_count": 40
  },
  {
   "cell_type": "code",
   "execution_count": null,
   "metadata": {
    "collapsed": true,
    "ExecuteTime": {
     "end_time": "2024-05-20T04:27:42.712286Z",
     "start_time": "2024-05-20T04:27:42.711285Z"
    }
   },
   "outputs": [],
   "source": []
  },
  {
   "cell_type": "markdown",
   "metadata": {},
   "source": [
    "1.1) If we want to evaluate the integral in the previous question such that the answer is at most $10^{-6}$ from the real answer. How many pieces do we need?"
   ]
  },
  {
   "cell_type": "code",
   "execution_count": 42,
   "metadata": {
    "collapsed": true,
    "ExecuteTime": {
     "end_time": "2024-05-20T04:34:56.355043Z",
     "start_time": "2024-05-20T04:34:56.347505Z"
    }
   },
   "outputs": [
    {
     "data": {
      "text/plain": "0.31809505027668356"
     },
     "execution_count": 42,
     "metadata": {},
     "output_type": "execute_result"
    }
   ],
   "source": [
    "xs = np.linspace(1, 3, 200)\n",
    "ys = [f(x) for x in xs]\n",
    "np.trapz(ys, xs)"
   ]
  },
  {
   "cell_type": "markdown",
   "metadata": {},
   "source": [
    "2) Simple linear regression. Fit the data in `prob2.txt` with a straight line. Plot to verify."
   ]
  },
  {
   "cell_type": "code",
   "execution_count": 46,
   "metadata": {
    "collapsed": true,
    "ExecuteTime": {
     "end_time": "2024-05-20T04:40:53.667951Z",
     "start_time": "2024-05-20T04:40:53.657856Z"
    }
   },
   "outputs": [
    {
     "data": {
      "text/plain": "array([[ 2.85923219,  1.63275111,  1.36783762,  1.40912056,  2.13545006,\n         2.19108941,  2.92902904,  2.30635419,  2.49781328,  2.30713974,\n         2.49542962,  2.92261347,  1.0167766 ,  1.21288875,  1.59740743,\n         2.31282237,  2.61962511,  2.74435183,  2.92929519,  2.44737069,\n         2.28495066,  2.43490724,  1.93519801,  1.65116936,  1.87928921,\n         2.45937817,  2.98802917,  2.35374742,  2.58164504,  1.34182852,\n         1.05369855,  2.60074049,  2.80744508,  1.04935242,  1.98349464,\n         2.05251033,  2.19273202,  1.10391509,  2.79017906,  2.45653236,\n         2.63670002,  2.00044551,  2.62037882,  1.19193705,  1.43790009,\n         1.51743812,  1.93621151,  1.91874641,  2.41901956,  1.35610601,\n         2.06289977,  1.33548446,  2.53762784,  2.8563411 ,  2.21898732,\n         1.30036699,  1.97925341,  1.75468991,  2.69720282,  2.82219446,\n         1.76769744,  1.63099181,  2.13678831,  1.37563607,  1.25168309,\n         2.37519161,  2.59921344,  2.14707313,  2.94645996,  2.26810875,\n         2.77684345,  1.99082952,  1.70323306,  2.42846074,  2.00785823,\n         1.45127521,  1.48994888,  2.5856014 ,  1.99034483,  2.83018735,\n         2.89074367,  2.06646446,  1.50498519,  2.44172412,  1.73487753,\n         1.99729689,  1.45315009,  1.70713129,  2.30170357,  1.62586579,\n         2.53747089,  2.56367421,  2.70481897,  2.89981148,  1.21464582,\n         2.82145071,  1.67211032,  2.65276085,  2.79620127,  1.08543061],\n       [ 9.98117952,  8.47505654,  8.27540315,  8.2270734 ,  9.12280574,\n         9.21097718, 10.0666164 ,  9.56605347,  9.74789136,  9.51851491,\n         9.52652978, 10.08788076,  7.75891164,  8.01165035,  8.44187561,\n         9.32567751,  9.86117188,  9.95796631, 10.23172011,  9.65573423,\n         9.26202842,  9.40790748,  9.06198884,  8.60690516,  8.9760534 ,\n         9.52262356, 10.26304751,  9.39131387,  9.61354229,  8.11727582,\n         7.57962313,  9.7386816 ,  9.93397729,  7.8254376 ,  9.13768311,\n         9.13810834,  9.20089132,  8.0300574 ,  9.97428124,  9.71895077,\n         9.71368913,  9.07320822,  9.9045821 ,  7.98917875,  8.27381509,\n         8.46341508,  8.83741889,  8.72956711,  9.5921776 ,  8.31969148,\n         9.200726  ,  8.2010394 ,  9.64105296, 10.09133017,  9.19320167,\n         7.97444167,  8.88149151,  8.85314025,  9.81544798,  9.78534895,\n         8.61930559,  8.58050447,  9.18129911,  8.24804058,  7.95173546,\n         9.47249855,  9.84614387,  9.12965693, 10.28480954,  9.23503412,\n        10.01431121,  8.97738612,  8.71013519,  9.50812443,  9.16143868,\n         8.22722213,  8.36339469,  9.6481713 ,  9.04249531,  9.91610498,\n        10.08611981,  9.03621968,  8.27516245,  9.6041224 ,  8.57799631,\n         9.08941511,  8.32153743,  8.85180501,  9.29609072,  8.45264525,\n         9.64914833,  9.75655341,  9.84243803, 10.1681893 ,  8.08272254,\n        10.01130271,  8.35173712,  9.83428312, 10.00294075,  7.8535188 ]])"
     },
     "execution_count": 46,
     "metadata": {},
     "output_type": "execute_result"
    }
   ],
   "source": [
    "data = np.loadtxt('prob2.txt')\n",
    "(x, y) = data\n",
    "data"
   ]
  },
  {
   "cell_type": "markdown",
   "metadata": {},
   "source": [
    "3) **[Optional]** Simpson's rule. In the class, we learn how to use trapezoid rule to numerically the integral. In this problem you will find a better rule to evaluate the integral.\n",
    "\n",
    "You will show this in the next problem that\n",
    "\n",
    "$$\\int \\limits_{x=a}^{a+nh} f(x) \\; dx \\approx \\frac{h}{3} \\left(  f(x_0) + 4 \\sum^{n-1}_{i=1,3,5\\ldots} f(x_i) + 2 \\sum^{n-2}_{j=2,4,6\\ldots} f(x_j)+ f(x_n)\\right) $$\n",
    "\n",
    "where $x_i = a+ih$.\n",
    "\n",
    "\n"
   ]
  },
  {
   "cell_type": "markdown",
   "metadata": {},
   "source": [
    "3.1) Use Simpson's Rule described above to find\n",
    "\n",
    "$$\\int \\limits_{x=1}^{3} e^{-x} \\; dx$$\n",
    "\n",
    "using n = 10. This is the same integral as the one in problem 1."
   ]
  },
  {
   "cell_type": "code",
   "execution_count": null,
   "metadata": {
    "collapsed": true
   },
   "outputs": [],
   "source": []
  },
  {
   "cell_type": "markdown",
   "metadata": {},
   "source": [
    "Now we will try to understand why the formula shown above works. The key idea is that instead of approximating the area under the curve using trapezoid shape. We will use parabola to approximate the shape. Let us consider a curve $f(x)$ that we want to integrate\n",
    "\n",
    "$$\\int \\limits_{x=a}^{x=a+2h} f(x) \\;dx$$\n",
    "\n",
    "We will use parabola to approximate the area. This parabola will have to pass through three points.\n",
    "    $$[x, f(x)], [x+h, f(x+h)], [x+2h, f(x+2h)]$$\n",
    "    \n",
    "Concretely, suppose that we want to calculate\n",
    "\n",
    "$$\\int \\limits_{x=1}^{x=3} e^{-x} \\;dx $$\n",
    "\n",
    "with $h=1$. The parabola is shown below."
   ]
  },
  {
   "cell_type": "code",
   "execution_count": null,
   "metadata": {
    "ExecuteTime": {
     "end_time": "2024-05-20T04:27:42.725285Z",
     "start_time": "2024-05-20T04:27:42.722285Z"
    }
   },
   "outputs": [],
   "source": [
    "def f(x):\n",
    "    return math.exp(-x)\n",
    "#let h = 1\n",
    "#we are interested in parabola that passes through\n",
    "#(1, e^-1), (2, e^-2), (3, e^-3)\n",
    "#We can us Legendre Polynomail for this.\n",
    "def poly(x):\n",
    "    #legendre polynomial that passes through (1, e^-1), (2, e^-2), (3, e^-3)\n",
    "    return 0.74742 - 0.453038*x + 0.073498*x**2\n",
    "\n",
    "x = np.linspace(1, 3,100)\n",
    "ty = [f(xx) for xx in x]\n",
    "py = [poly(xx) for xx in x]\n",
    "plt.plot(x, ty, label='f(x)')\n",
    "plt.plot(x,py, label='legendre')\n",
    "plt.plot([1,2,3],[exp(-1),exp(-2),exp(-3)],'o',label=('x, x+h, x+2h'))\n",
    "plt.xlim(0.9,3.1)\n",
    "plt.grid()\n",
    "plt.legend(loc='upper right')"
   ]
  },
  {
   "cell_type": "markdown",
   "metadata": {
    "collapsed": true
   },
   "source": [
    "3.2)From the picture above we can estimate the area of the blue curve using the area under the green parabola. This approximation is much better than trapezoid one since it capture some of the curvature of the curve.\n",
    "\n",
    "Your job is\n",
    "\n",
    " 1. Find the polynomial of degree two that passes through \n",
    " \n",
    " $$[x,f(x)], [x+h, f(x+h)], [x+2h, f(x+2h)]$$\n",
    " \n",
    " 2. Show that the area under the polynomial you found ealirer is\n",
    " \n",
    " $$ A = \\frac{h}{3} \\left[f(x)+4 f(x+h) + f(x+2h) \\right] $$\n",
    " \n",
    " All you need to do is to find whatever you got in 1) analytically. Use Wolfram Alpha or Mathematica if needed."
   ]
  },
  {
   "cell_type": "code",
   "execution_count": null,
   "metadata": {
    "collapsed": true,
    "ExecuteTime": {
     "end_time": "2024-05-20T04:27:42.728284Z",
     "start_time": "2024-05-20T04:27:42.726285Z"
    }
   },
   "outputs": [],
   "source": []
  },
  {
   "cell_type": "markdown",
   "metadata": {
    "collapsed": true
   },
   "source": [
    "3.3) Use what you found in 3.2. To show that if you subdivide the interval $[a,b]$ into $n$(even number) subdivision each one with with $h$ and we approximate the area of each two pieces using legendre polynomial as we have done in 3.1, we will find that\n",
    "\n",
    "$$\\int \\limits_{x=a}^{a+nh} f(x) \\; dx \\approx \\frac{h}{3} \\left(  f(x_0) + 4 \\sum^{n-1}_{i=1,3,5\\ldots} f(x_i) + 2 \\sum^{n-2}_{j=2,4,6\\ldots} f(x_j)+ f(x_n)\\right) $$\n",
    "\n",
    "This formula is called Simpson's 1/3 rule. It converges with $O(1/n^4)$. Much faster than Trapezoid. Proving this convergence behavior is similar to how we get one for trapezoid but the algebra is a lot more involved."
   ]
  },
  {
   "cell_type": "code",
   "execution_count": null,
   "metadata": {
    "collapsed": true,
    "ExecuteTime": {
     "start_time": "2024-05-20T04:27:42.730285Z"
    }
   },
   "outputs": [],
   "source": []
  },
  {
   "cell_type": "markdown",
   "metadata": {},
   "source": [
    "4) Load the data in `prob4.txt`. We want to fit this data with the following function \n",
    "\n",
    "$$f(x) = a \\exp(-x) + c$$\n",
    "\n",
    "where $a$ and $c$ are parameters. \n",
    "\n",
    "Find the $a$ and $c$ that give you the \"best fit\".\n",
    "\n",
    "Make a plot to verify the answer."
   ]
  },
  {
   "cell_type": "code",
   "execution_count": null,
   "metadata": {
    "collapsed": true,
    "ExecuteTime": {
     "start_time": "2024-05-20T04:27:42.731284Z"
    }
   },
   "outputs": [],
   "source": []
  },
  {
   "cell_type": "markdown",
   "metadata": {},
   "source": [
    "5) Shipyard. ship_speed_fuel.csv and ship_speed_fuel.txt contains data for fuel consumption and ship speed. You can load them up using loadtxt like shown below.\n",
    "\n",
    "    Variable Names\n",
    "    ship_leg (1-5)\n",
    "    speed    (knots)\n",
    "    fuel     (tons/day)\n",
    "    \n",
    "The plot below show clearly that there are two kinds of ship: small ship and a big ship. \n",
    "\n",
    "Source: S.Wang, Q. Meng (2012). \"Sailing Speed Optimization for Container\n",
    "Ships in a Liner Shipping Network,\" "
   ]
  },
  {
   "cell_type": "code",
   "execution_count": null,
   "metadata": {},
   "outputs": [],
   "source": [
    "ship = np.loadtxt(open(\"ship_speed_fuel.csv\",\"rb\"), delimiter=',', skiprows=1)\n",
    "#try to figure out what exactly is in the ship variable\n",
    "#see ship_speed_fuel.text for the meaning of each column\n",
    "shipno = ship[:, 0]\n",
    "speed = ship[:, 1]\n",
    "fuel = ship[:, 2]\n",
    "plt.plot(speed, fuel,'.')"
   ]
  },
  {
   "cell_type": "markdown",
   "metadata": {},
   "source": [
    "5.1) Physics dictates that the bigger the ship the more power it needs to maintain a fixed speed. Figure out which ship 1,2,3,4,5 is a big ship and which ship is a small ship."
   ]
  },
  {
   "cell_type": "code",
   "execution_count": null,
   "metadata": {
    "collapsed": true
   },
   "outputs": [],
   "source": []
  },
  {
   "cell_type": "markdown",
   "metadata": {},
   "source": [
    "5.2) The ship fuel consumption,$c$, for a given speed, $v$ can be modeled with\n",
    "\n",
    "$$c = a v^b$$\n",
    "\n",
    "where $a$ and $b$ are parameter you need to find for best fit.\n",
    "\n",
    "This relation, is however not linear. It nees some manipulation to make it linear. We can take $\\ln$ on both side and obtain\n",
    "\n",
    "$$\\ln c = b \\ln v + \\ln a$$\n",
    "\n",
    "which is a linear relation. Your job for this one is to find $a$ and $b$ for big ship and small ship. Plot to verify. (You should have two set of parameters one for big ship and one for small ship)."
   ]
  },
  {
   "cell_type": "code",
   "execution_count": null,
   "metadata": {
    "collapsed": true,
    "ExecuteTime": {
     "start_time": "2024-05-20T04:27:42.737283Z"
    }
   },
   "outputs": [],
   "source": []
  },
  {
   "cell_type": "markdown",
   "metadata": {},
   "source": [
    "5.3) (Optional, for fun only.) Suppose that he small ship can carry 1000 tons of good while big ship can carry 2000 tons of good. The cost of ship fuel(bunker) is about 250 Dollar per metric tons. Company normally charge about 0.10 Dollar per ton of good per mile travel.\n",
    "\n",
    "The faster your ship goes the more trip you can make the more revenue you can get. Yet, at the same time the trip will cost you more cost on fuel.\n",
    "\n",
    "Your job is to figure out what speed you need to run the ship at for maximum profit and which ship is better for you."
   ]
  },
  {
   "cell_type": "code",
   "execution_count": null,
   "metadata": {
    "collapsed": true,
    "ExecuteTime": {
     "start_time": "2024-05-20T04:27:42.738284Z"
    }
   },
   "outputs": [],
   "source": []
  },
  {
   "cell_type": "markdown",
   "metadata": {},
   "source": [
    "6) Noisy peak finding.\n",
    "\n",
    "Finding peak in a noisy data is a very common task in analyzing physical from sensors. Consider the following data shown below.\n",
    "\n",
    "Your task for this problem is to find the peak position and peak height from noisy data. There are 10 dataset make sure you succeed in finding **all** the peak in at least 9.\n",
    "\n",
    "```python\n",
    "def find_peaks(xs, ys):\n",
    "    return [(xpeak, ypeak), (xpeak, ypeak), ...]\n",
    "```\n",
    "\n",
    "Here are some hints:\n",
    "- You should first find candidates for peak in noisy data.\n",
    "- Fit the peak(and neighbor) with parabola\n",
    "- Make sure the parameter from the fitted parabola actually indicate that it is a peak.\n",
    "- Then use the parameter from the fitted parabola to find the peak location and height. (Recall High School Math)\n"
   ]
  },
  {
   "cell_type": "code",
   "execution_count": null,
   "metadata": {
    "scrolled": false
   },
   "outputs": [],
   "source": [
    "np.random.seed(9999)\n",
    "def is_good_peak(mu, min_dist=0.8):\n",
    "    if mu is None:\n",
    "        return False\n",
    "    smu = np.sort(mu)\n",
    "    if smu[0] < 0.5:\n",
    "        return False\n",
    "    if smu[-1] > 2.5:\n",
    "        return False\n",
    "    for p, n in zip(smu, smu[1:]):\n",
    "        #print(abs(p-n))\n",
    "        if abs(p-n) < min_dist:\n",
    "            return False\n",
    "    return True\n",
    "\n",
    "maxx = 3\n",
    "ndata = 500\n",
    "nset = 10\n",
    "l = []\n",
    "answers = []\n",
    "for iset in range(1, nset):\n",
    "    \n",
    "    npeak = np.random.randint(2,4)\n",
    "    xs = np.linspace(0,maxx,ndata)\n",
    "    ys = np.zeros(ndata)\n",
    "    mu = None\n",
    "    \n",
    "    while not is_good_peak(mu):\n",
    "        mu = np.random.random(npeak)*maxx\n",
    "    for ipeak in range(npeak):\n",
    "        m = mu[ipeak]\n",
    "        sigma = np.random.random()*0.3 + 0.2\n",
    "        height = np.random.random()*0.5 + 1\n",
    "        ys += height*np.exp(-(xs-m)**2/sigma**2)\n",
    "        ys += np.random.randn(ndata)*0.07\n",
    "    l.append(ys)\n",
    "    answers.append(mu)\n",
    "\n",
    "p6_ys = l\n",
    "p6_xs = np.linspace(0,maxx,ndata)\n",
    "p6_answers = answers\n",
    "\n",
    "for ys, ans in zip(p6_ys, p6_answers):\n",
    "    plt.figure()\n",
    "    plt.plot(xs, ys, '.')\n",
    "    for a in ans:\n",
    "        plt.axvline(a,color='red')"
   ]
  },
  {
   "cell_type": "code",
   "execution_count": null,
   "metadata": {},
   "outputs": [],
   "source": []
  },
  {
   "cell_type": "code",
   "execution_count": null,
   "metadata": {},
   "outputs": [],
   "source": []
  },
  {
   "cell_type": "code",
   "execution_count": null,
   "metadata": {
    "ExecuteTime": {
     "start_time": "2024-05-20T04:27:42.746284Z"
    }
   },
   "outputs": [],
   "source": []
  },
  {
   "cell_type": "code",
   "execution_count": null,
   "metadata": {},
   "outputs": [],
   "source": []
  }
 ],
 "metadata": {
  "kernelspec": {
   "name": "python3",
   "language": "python",
   "display_name": "Python 3 (ipykernel)"
  },
  "language_info": {
   "codemirror_mode": {
    "name": "ipython",
    "version": 2
   },
   "file_extension": ".py",
   "mimetype": "text/x-python",
   "name": "python",
   "nbconvert_exporter": "python",
   "pygments_lexer": "ipython2",
   "version": "2.7.14"
  },
  "toc": {
   "colors": {
    "hover_highlight": "#DAA520",
    "running_highlight": "#FF0000",
    "selected_highlight": "#FFD700"
   },
   "moveMenuLeft": true,
   "nav_menu": {
    "height": "30px",
    "width": "252px"
   },
   "navigate_menu": true,
   "number_sections": false,
   "sideBar": true,
   "threshold": 4,
   "toc_cell": false,
   "toc_section_display": "block",
   "toc_window_display": false
  }
 },
 "nbformat": 4,
 "nbformat_minor": 1
}
