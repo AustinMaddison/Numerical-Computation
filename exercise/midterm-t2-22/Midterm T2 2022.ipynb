{
 "cells": [
  {
   "cell_type": "markdown",
   "metadata": {},
   "source": [
    "**Instruction**\n",
    " - There are 7 problems. You will be grade out of 90 (not 100).\n",
    " - Work in your notebook.\n",
    " - Open book & Notes & wolfram alpha & google etc.\n",
    " - You are however not allowed to communicate to any intelligent being(if you cat is smart, no) regarding exam. This includes but not limited to asking questions on Chegg/Stack Overflow/Discord etc. \n",
    " - Make sure your code works in order doing Kernel-->restart and then Cell--> Run All. Make sure what appears in the ouput is what you expect"
   ]
  },
  {
   "cell_type": "markdown",
   "source": [],
   "metadata": {
    "collapsed": false
   }
  },
  {
   "cell_type": "code",
   "execution_count": 1,
   "metadata": {
    "ExecuteTime": {
     "end_time": "2023-02-22T16:39:26.400511Z",
     "start_time": "2023-02-22T16:39:25.538045Z"
    }
   },
   "outputs": [],
   "source": [
    "%matplotlib inline\n",
    "import numpy as np\n",
    "from matplotlib import pyplot as plt\n",
    "import math"
   ]
  },
  {
   "cell_type": "markdown",
   "metadata": {},
   "source": [
    "<span style=\"font-size: 50px;color: dark green\">Easy Zone 12 points each.</span>\n",
    "\n",
    "Stuff you just need to copy pasted from the exercise."
   ]
  },
  {
   "cell_type": "markdown",
   "metadata": {
    "ExecuteTime": {
     "end_time": "2021-11-01T15:00:21.193085Z",
     "start_time": "2021-11-01T15:00:21.190188Z"
    }
   },
   "source": [
    "# Problem 1) Taylor"
   ]
  },
  {
   "cell_type": "markdown",
   "metadata": {
    "ExecuteTime": {
     "end_time": "2021-11-01T15:00:25.533689Z",
     "start_time": "2021-11-01T15:00:25.528393Z"
    }
   },
   "source": [
    "## Find first 3 **non-zero** terms taylor series expansion of (Wolfram Alpha is your friend)\n",
    "$$ f(x) = \\sqrt{1+e^x} $$ around $x=0$."
   ]
  },
  {
   "cell_type": "code",
   "execution_count": null,
   "metadata": {},
   "outputs": [],
   "source": []
  },
  {
   "cell_type": "markdown",
   "metadata": {},
   "source": [
    "## Use it to estimate $\\sqrt{1+e^1}$ along with the bound on uncertainty. Anything sensible counts."
   ]
  },
  {
   "cell_type": "code",
   "execution_count": null,
   "metadata": {},
   "outputs": [],
   "source": []
  },
  {
   "cell_type": "markdown",
   "metadata": {},
   "source": [
    "# Problem 2) Bisection\n",
    "\n",
    "Find the **largest**(most positive, least negative) solution to (plot and you will see what I meant)\n",
    "\n",
    "$\\sin(x) = \\exp(x)$\n",
    "\n",
    "using bisection method make sure your answer has uncertainty less than $10^{-6}$\n",
    "\n",
    "By the way, I tried this in CHATGPT and it not even close."
   ]
  },
  {
   "cell_type": "code",
   "execution_count": 3,
   "metadata": {
    "ExecuteTime": {
     "end_time": "2023-02-22T16:39:38.428015Z",
     "start_time": "2023-02-22T16:39:38.423375Z"
    }
   },
   "outputs": [
    {
     "name": "stdout",
     "output_type": "stream",
     "text": [
      "0.9345631373709868 6.921021795206482\n"
     ]
    }
   ],
   "source": [
    "# FYI -- so you don't do this.\n",
    "chat_gpt_answer = 1.934563416996002\n",
    "print(math.sin(chat_gpt_answer), math.exp(chat_gpt_answer))"
   ]
  },
  {
   "cell_type": "markdown",
   "metadata": {},
   "source": [
    "# Problem 3) Newton's method\n",
    "\n",
    "**Write down the update rule $x_{n+1} = \\text{something to do with}...x_n...$** for solving\n",
    "$$\n",
    "    x^2 = \\exp(x)+x\n",
    "$$\n",
    "and **solve it** using Newton's method."
   ]
  },
  {
   "cell_type": "code",
   "execution_count": null,
   "metadata": {},
   "outputs": [],
   "source": []
  },
  {
   "cell_type": "markdown",
   "metadata": {},
   "source": [
    "# Problem 4) Lagrange Interpolation \n",
    "\n",
    "If we interpolate the points given below with Lagrange polynomial. What is the function value when x=0.5?"
   ]
  },
  {
   "cell_type": "code",
   "execution_count": 6,
   "metadata": {
    "ExecuteTime": {
     "end_time": "2023-02-22T16:46:46.811925Z",
     "start_time": "2023-02-22T16:46:46.702503Z"
    }
   },
   "outputs": [
    {
     "data": {
      "text/plain": [
       "[<matplotlib.lines.Line2D at 0x7fe770ec40f0>]"
      ]
     },
     "execution_count": 6,
     "metadata": {},
     "output_type": "execute_result"
    },
    {
     "data": {
      "image/png": "[encoded data removed]",
      "text/plain": [
       "<Figure size 432x288 with 1 Axes>"
      ]
     },
     "metadata": {
      "image/png": {
       "height": 248,
       "width": 372
      },
      "needs_background": "light"
     },
     "output_type": "display_data"
    }
   ],
   "source": [
    "np.random.seed(23123) # now you know\n",
    "xs = np.random.rand(7)\n",
    "ys = np.random.rand(7)\n",
    "plt.plot(xs,ys,'o')"
   ]
  },
  {
   "cell_type": "markdown",
   "metadata": {},
   "source": [
    "# Problem 5) Numerical Calculus"
   ]
  },
  {
   "cell_type": "markdown",
   "metadata": {},
   "source": [
    "## Compute the numerical derivative of\n",
    "$$\n",
    "f(x) = \\ln (x) + x \\sin(x)\n",
    "$$\n",
    "plot it for x = 1 .. 2"
   ]
  },
  {
   "cell_type": "code",
   "execution_count": null,
   "metadata": {},
   "outputs": [],
   "source": []
  },
  {
   "cell_type": "markdown",
   "metadata": {},
   "source": [
    "## Compute the following integral using trapezoid rule\n",
    "\n",
    "$$\n",
    "\\int_1^2 \\frac{1}{x^7 + 1} dx\n",
    "$$\n",
    "use 100 pieces for your integral. This is actually one of the hard hard hard integral to do by hands. Try it."
   ]
  },
  {
   "cell_type": "code",
   "execution_count": null,
   "metadata": {},
   "outputs": [],
   "source": []
  },
  {
   "cell_type": "markdown",
   "metadata": {},
   "source": [
    "# Problem 6) Fit the curve\n",
    "\n",
    "Find the best least square parameter of fitting the given data with\n",
    "\n",
    "$$\n",
    "y = a \\tan(x) + b \\sin(x) + c\n",
    "$$"
   ]
  },
  {
   "cell_type": "code",
   "execution_count": 18,
   "metadata": {
    "ExecuteTime": {
     "end_time": "2023-02-22T17:08:40.175666Z",
     "start_time": "2023-02-22T17:08:40.037408Z"
    }
   },
   "outputs": [
    {
     "data": {
      "text/plain": [
       "[<matplotlib.lines.Line2D at 0x7fe7712c1b70>]"
      ]
     },
     "execution_count": 18,
     "metadata": {},
     "output_type": "execute_result"
    },
    {
     "data": {
      "image/png": "[encoded data removed]",
      "text/plain": [
       "<Figure size 432x288 with 1 Axes>"
      ]
     },
     "metadata": {
      "image/png": {
       "height": 248,
       "width": 370
      },
      "needs_background": "light"
     },
     "output_type": "display_data"
    }
   ],
   "source": [
    "xs = np.array([0.        , 0.01010101, 0.02020202, 0.03030303, 0.04040404,\n",
    "       0.05050505, 0.06060606, 0.07070707, 0.08080808, 0.09090909,\n",
    "       0.1010101 , 0.11111111, 0.12121212, 0.13131313, 0.14141414,\n",
    "       0.15151515, 0.16161616, 0.17171717, 0.18181818, 0.19191919,\n",
    "       0.2020202 , 0.21212121, 0.22222222, 0.23232323, 0.24242424,\n",
    "       0.25252525, 0.26262626, 0.27272727, 0.28282828, 0.29292929,\n",
    "       0.3030303 , 0.31313131, 0.32323232, 0.33333333, 0.34343434,\n",
    "       0.35353535, 0.36363636, 0.37373737, 0.38383838, 0.39393939,\n",
    "       0.4040404 , 0.41414141, 0.42424242, 0.43434343, 0.44444444,\n",
    "       0.45454545, 0.46464646, 0.47474747, 0.48484848, 0.49494949,\n",
    "       0.50505051, 0.51515152, 0.52525253, 0.53535354, 0.54545455,\n",
    "       0.55555556, 0.56565657, 0.57575758, 0.58585859, 0.5959596 ,\n",
    "       0.60606061, 0.61616162, 0.62626263, 0.63636364, 0.64646465,\n",
    "       0.65656566, 0.66666667, 0.67676768, 0.68686869, 0.6969697 ,\n",
    "       0.70707071, 0.71717172, 0.72727273, 0.73737374, 0.74747475,\n",
    "       0.75757576, 0.76767677, 0.77777778, 0.78787879, 0.7979798 ,\n",
    "       0.80808081, 0.81818182, 0.82828283, 0.83838384, 0.84848485,\n",
    "       0.85858586, 0.86868687, 0.87878788, 0.88888889, 0.8989899 ,\n",
    "       0.90909091, 0.91919192, 0.92929293, 0.93939394, 0.94949495,\n",
    "       0.95959596, 0.96969697, 0.97979798, 0.98989899, 1.        ])\n",
    "ys = np.array([ 0.75004691,  1.09732679,  1.18820555,  0.83595282,  1.01159677,\n",
    "        0.8471369 ,  0.71757455,  0.38847743,  0.49385348,  0.51215564,\n",
    "        0.29910594,  0.40747048,  0.13363289,  0.34384035,  0.24535638,\n",
    "        0.02051088, -0.13402503,  0.10929007, -0.25287898, -0.4572011 ,\n",
    "        0.0223008 , -0.06078721, -0.48673349, -0.6717129 , -0.53279064,\n",
    "       -0.44832883, -0.55515997, -0.49420894, -0.89645461, -0.88426652,\n",
    "       -0.91460546, -1.31088225, -1.23611328, -0.98358701, -1.05823519,\n",
    "       -1.36035132, -1.09144663, -1.72705462, -1.7191017 , -1.75250907,\n",
    "       -1.67239883, -1.75390137, -1.67480566, -1.85408143, -1.52597043,\n",
    "       -2.18614414, -2.0889476 , -1.8726768 , -2.31789522, -1.7511221 ,\n",
    "       -2.33201325, -2.25253818, -2.3777861 , -2.4015338 , -2.2593009 ,\n",
    "       -2.22356644, -2.54052913, -2.16001698, -2.46650313, -2.6680098 ,\n",
    "       -2.70468768, -2.561615  , -2.55350647, -2.63278273, -2.99566547,\n",
    "       -2.90908344, -2.60789384, -2.61206141, -2.58122084, -3.09880765,\n",
    "       -3.20479182, -2.78589743, -2.94636619, -3.03703566, -2.50969056,\n",
    "       -3.04236388, -2.79587639, -3.21919484, -2.85153809, -3.19638226,\n",
    "       -2.84318555, -2.84740744, -3.29947507, -2.80420132, -2.82612326,\n",
    "       -2.89048869, -2.94608334, -2.95131326, -3.05914746, -3.16689036,\n",
    "       -3.24891406, -2.81161468, -2.48474534, -2.90682385, -2.43308443,\n",
    "       -2.76340895, -2.74012884, -2.68126473, -2.67225112, -3.08175939])\n",
    "plt.plot(xs, ys, '.')"
   ]
  },
  {
   "cell_type": "markdown",
   "metadata": {},
   "source": [
    "<span style=\"font-size: 50px;color: dark green\">Creative Zone 28 points</span>"
   ]
  },
  {
   "attachments": {},
   "cell_type": "markdown",
   "metadata": {},
   "source": [
    "# Problem 7) An unscruplus data scientist try to make up data.\n",
    "\n",
    "An unscruplpulus scientist to make up two data points. This is totally morally bad don't do it.\n",
    "\n",
    "Their goal is to try to make 1 data points so that the slope is at the desired value of 4.6246.\n",
    "\n",
    "There are 3 real data points at x=1,3,4\n",
    "\n",
    "Your job is to make 1 fake data points at x=5 (namely find y at x=5) so that the slope is exactly 4.6246.\n"
   ]
  },
  {
   "cell_type": "code",
   "execution_count": 35,
   "metadata": {
    "ExecuteTime": {
     "end_time": "2023-02-22T17:47:10.032737Z",
     "start_time": "2023-02-22T17:47:09.899671Z"
    }
   },
   "outputs": [
    {
     "data": {
      "text/plain": [
       "[<matplotlib.lines.Line2D at 0x7fe76071f5f8>]"
      ]
     },
     "execution_count": 35,
     "metadata": {},
     "output_type": "execute_result"
    },
    {
     "data": {
      "image/png": "[encoded data removed]",
      "text/plain": [
       "<Figure size 432x288 with 1 Axes>"
      ]
     },
     "metadata": {
      "image/png": {
       "height": 248,
       "width": 362
      },
      "needs_background": "light"
     },
     "output_type": "display_data"
    }
   ],
   "source": [
    "x = np.array([1., 3, 4, 5])\n",
    "y = np.array([1., 3, 4, 6]) # last element is what the data scientist try to make up.\n",
    "plt.plot(x, y, 'o')"
   ]
  },
  {
   "cell_type": "code",
   "execution_count": null,
   "metadata": {},
   "outputs": [],
   "source": []
  }
 ],
 "metadata": {
  "hide_input": false,
  "kernelspec": {
   "display_name": "Python 3",
   "language": "python",
   "name": "python3"
  },
  "language_info": {
   "codemirror_mode": {
    "name": "ipython",
    "version": 3
   },
   "file_extension": ".py",
   "mimetype": "text/x-python",
   "name": "python",
   "nbconvert_exporter": "python",
   "pygments_lexer": "ipython3",
   "version": "3.7.3"
  },
  "toc": {
   "colors": {
    "hover_highlight": "#DAA520",
    "running_highlight": "#FF0000",
    "selected_highlight": "#FFD700"
   },
   "moveMenuLeft": true,
   "nav_menu": {
    "height": "246.321px",
    "width": "251.989px"
   },
   "navigate_menu": true,
   "number_sections": true,
   "sideBar": true,
   "threshold": 4,
   "toc_cell": false,
   "toc_section_display": "block",
   "toc_window_display": true
  }
 },
 "nbformat": 4,
 "nbformat_minor": 4
}
